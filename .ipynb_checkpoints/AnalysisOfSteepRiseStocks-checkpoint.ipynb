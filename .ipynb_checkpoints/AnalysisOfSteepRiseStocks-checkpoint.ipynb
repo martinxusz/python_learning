{
 "cells": [
  {
   "cell_type": "markdown",
   "metadata": {},
   "source": [
    "- 找出当日涨停的所有股票，不含新股\n",
    "- 找出N日内有涨停过的股票"
   ]
  },
  {
   "cell_type": "code",
   "execution_count": 2,
   "metadata": {
    "collapsed": false,
    "scrolled": true
   },
   "outputs": [],
   "source": [
    "import tushare as ts\n",
    "from tushare.util import dateu as du\n",
    "import pandas as pd\n",
    "repo_dir = '/home/pi/practise/python_learning/repo'\n",
    "#有涨停过的股票\n",
    "registered_st = 'registered_st'\n",
    "\n",
    "import os\n",
    "\n",
    "    \n",
    "#保存到CSV文件\n",
    "if not os.path.isfile(repo_dir + '/' + du.last_tddate() + '.csv'):\n",
    "    #一次性获取当前交易所有股票的行情数据（如果是节假日，即为上一交易日，结果显示速度取决于网速）\n",
    "    df = ts.get_today_all()\n",
    "    df.to_csv(repo_dir + '/' + du.last_tddate()+'.csv', encoding='utf-8')\n",
    "else:\n",
    "    df = pd.read_csv(repo_dir + '/' + du.last_tddate()+'.csv')\n",
    "    \n",
    "#当日涨停股\n",
    "#df[(df.changepercent > 9) & (df.changepercent < 11)]\n"
   ]
  },
  {
   "cell_type": "markdown",
   "metadata": {},
   "source": [
    "- code：代码\n",
    "- name:名称\n",
    "- changepercent:涨跌幅\n",
    "- trade:现价\n",
    "- open:开盘价\n",
    "- high:最高价\n",
    "- low:最低价\n",
    "- settlement:昨日收盘价\n",
    "- volume:成交量\n",
    "- turnoverratio:换手率\n",
    "- amount:成交量\n",
    "- per:市盈率\n",
    "- pb:市净率\n",
    "- mktcap:总市值\n",
    "- nmc:流通市值"
   ]
  },
  {
   "cell_type": "code",
   "execution_count": 11,
   "metadata": {
    "collapsed": false,
    "scrolled": true
   },
   "outputs": [
    {
     "name": "stdout",
     "output_type": "stream",
     "text": [
      "[Getting data:]###########"
     ]
    }
   ],
   "source": [
    "df_limitupeqty_tmp = df[(df.changepercent > 9) & (df.changepercent < 11)]\n",
    "\n",
    "#看看个数\n",
    "#df_limitupeqty_tmp['code'].count()\n",
    "\n",
    "#新股数据\n",
    "#- code：股票代码\n",
    "#- name：股票名称\n",
    "#- ipo_date:上网发行日期\n",
    "#- issue_date:上市日期\n",
    "#- amount:发行数量(万股)\n",
    "#- markets:上网发行数量(万股)\n",
    "#- price:发行价格(元)\n",
    "#- pe:发行市盈率\n",
    "#- limit:个人申购上限(万股)\n",
    "#- funds：募集资金(亿元)\n",
    "#- ballot:网上中签率(%)\n",
    "newst = ts.new_stocks()\n",
    "#看看个数\n",
    "#newst['code'].count()\n",
    "\n",
    "#上市日期30天以内的算新股（1年前或者几个月前的就不算新股了)\n",
    "df_newst = newst[(newst.issue_date > du.day_last_week(-30)) | (newst.issue_date.isnull()) ]\n",
    "\n",
    "#去掉新股，等到涨停的股\n",
    "df_limitupeqty = df_limitupeqty_tmp[ ~(df_limitupeqty_tmp.code.isin(df_newst.code))]\n",
    "\n",
    "#重置下index的值，\n",
    "df_limitupeqty.index=range(df_limitupeqty.code.count())\n",
    "\n",
    "\n",
    "\n",
    "#保存到CSV文件\n",
    "if not os.path.isfile(repo_dir + '/' + registered_st + '.csv'):\n",
    "    #从来没执行过，则直接保存\n",
    "    df_limitupeqty.to_csv(repo_dir + '/' + registered_st +'.csv', columns=['code'], encoding='utf-8')\n",
    "else:\n",
    "    #加载现成的csv\n",
    "    df_existing = pd.read_csv(repo_dir + '/' + registered_st+'.csv')\n",
    "    #这行需要吗？\n",
    "    df_existing.drop_duplicates('code')\n",
    "    #append 到尾部header那一行就不用了\n",
    "    #df_limitupeqty.to_csv(repo_dir + '/' + registered_st +'.csv', mode='a', header=None, encoding='utf-8')\n",
    "    df_result_tmp = pd.concat([df_existing, df_limitupeqty],ignore_index=True)\n",
    "    df_result = df_result_tmp.drop_duplicates('code')\n",
    "    df_result.to_csv(repo_dir + '/' + registered_st +'.csv', columns=['code'], encoding='utf-8')\n",
    "#reminder    \n",
    "#上边的代码有问题，需要去重复才行,不然后执行几行就多几条 -- 已改\n",
    "#那个获得新取的接口也不对，去年发行的也叫新股，这。。。。看看有啥参数不对-- 已改\n",
    "#第一段的csv文件生成也有问题，如果是节假日，应该不会需要取数据，也不需要生成新的CSV，但现在是生成了-- 已改，但改得仍然有问题\n",
    "    "
   ]
  },
  {
   "cell_type": "code",
   "execution_count": null,
   "metadata": {
    "collapsed": true
   },
   "outputs": [],
   "source": []
  }
 ],
 "metadata": {
  "kernelspec": {
   "display_name": "Python 2",
   "language": "python",
   "name": "python2"
  },
  "language_info": {
   "codemirror_mode": {
    "name": "ipython",
    "version": 2
   },
   "file_extension": ".py",
   "mimetype": "text/x-python",
   "name": "python",
   "nbconvert_exporter": "python",
   "pygments_lexer": "ipython2",
   "version": "2.7.9"
  }
 },
 "nbformat": 4,
 "nbformat_minor": 2
}
