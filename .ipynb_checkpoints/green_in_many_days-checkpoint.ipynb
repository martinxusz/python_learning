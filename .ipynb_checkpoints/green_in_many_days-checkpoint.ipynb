{
 "cells": [
  {
   "cell_type": "code",
   "execution_count": 12,
   "metadata": {
    "collapsed": false
   },
   "outputs": [],
   "source": [
    "import tushare as ts\n",
    "from tushare.util import dateu as du\n",
    "import pandas as pd\n",
    "repo_dir = '/home/pi/practise/python_learning/repo'\n",
    "#连绿6天的股票\n",
    "registered_st = 'green_in6days_st'\n",
    "days_count = 6\n",
    "import os\n",
    "\n",
    "#保存到CSV文件\n",
    "if not os.path.isfile(repo_dir + '/' + du.last_tddate() + '.csv'):\n",
    "    #一次性获取当前交易所有股票的行情数据（如果是节假日，即为上一交易日，结果显示速度取决于网速）\n",
    "    df = ts.get_today_all()\n",
    "    df.to_csv(repo_dir + '/' + du.last_tddate()+'.csv', encoding='utf-8')\n",
    "else:\n",
    "    df = pd.read_csv(repo_dir + '/' + du.last_tddate()+'.csv')\n",
    "    \n",
    "\n",
    "df_green_st = df[(df.changepercent < 0)]\n",
    "\n",
    "#df_green_st.count()\n",
    "    \n"
   ]
  },
  {
   "cell_type": "code",
   "execution_count": 17,
   "metadata": {
    "collapsed": false
   },
   "outputs": [
    {
     "data": {
      "text/html": [
       "<div style=\"max-height:1000px;max-width:1500px;overflow:auto;\">\n",
       "<table border=\"1\" class=\"dataframe\">\n",
       "  <thead>\n",
       "    <tr style=\"text-align: right;\">\n",
       "      <th></th>\n",
       "      <th>Unnamed: 0</th>\n",
       "      <th>code</th>\n",
       "      <th>name</th>\n",
       "      <th>changepercent</th>\n",
       "      <th>trade</th>\n",
       "      <th>open</th>\n",
       "      <th>high</th>\n",
       "      <th>low</th>\n",
       "      <th>settlement</th>\n",
       "      <th>volume</th>\n",
       "      <th>turnoverratio</th>\n",
       "      <th>amount</th>\n",
       "      <th>per</th>\n",
       "      <th>pb</th>\n",
       "      <th>mktcap</th>\n",
       "      <th>nmc</th>\n",
       "    </tr>\n",
       "  </thead>\n",
       "  <tbody>\n",
       "    <tr>\n",
       "      <th>0 </th>\n",
       "      <td>  0</td>\n",
       "      <td> 603999</td>\n",
       "      <td> 读者传媒</td>\n",
       "      <td>-2.465</td>\n",
       "      <td> 29.28</td>\n",
       "      <td> 30.14</td>\n",
       "      <td> 30.14</td>\n",
       "      <td> 29.20</td>\n",
       "      <td> 30.02</td>\n",
       "      <td> 4020980</td>\n",
       "      <td>  3.49043</td>\n",
       "      <td> 118674144</td>\n",
       "      <td>  52.286</td>\n",
       "      <td>  5.200</td>\n",
       "      <td>  843264.00000</td>\n",
       "      <td> 337305.60000</td>\n",
       "    </tr>\n",
       "    <tr>\n",
       "      <th>1 </th>\n",
       "      <td>  1</td>\n",
       "      <td> 603998</td>\n",
       "      <td> 方盛制药</td>\n",
       "      <td>-0.984</td>\n",
       "      <td> 18.12</td>\n",
       "      <td> 18.27</td>\n",
       "      <td> 18.41</td>\n",
       "      <td> 18.04</td>\n",
       "      <td> 18.30</td>\n",
       "      <td> 3766387</td>\n",
       "      <td>  1.39922</td>\n",
       "      <td>  68558757</td>\n",
       "      <td>  28.313</td>\n",
       "      <td>  8.584</td>\n",
       "      <td>  784608.17664</td>\n",
       "      <td> 487749.12264</td>\n",
       "    </tr>\n",
       "    <tr>\n",
       "      <th>2 </th>\n",
       "      <td>  2</td>\n",
       "      <td> 603997</td>\n",
       "      <td> 继峰股份</td>\n",
       "      <td>-5.010</td>\n",
       "      <td> 18.20</td>\n",
       "      <td> 19.18</td>\n",
       "      <td> 19.18</td>\n",
       "      <td> 18.05</td>\n",
       "      <td> 19.16</td>\n",
       "      <td> 3834406</td>\n",
       "      <td>  3.36351</td>\n",
       "      <td>  70947110</td>\n",
       "      <td>  41.364</td>\n",
       "      <td>  5.251</td>\n",
       "      <td>  764400.00000</td>\n",
       "      <td> 207480.00000</td>\n",
       "    </tr>\n",
       "    <tr>\n",
       "      <th>5 </th>\n",
       "      <td>  5</td>\n",
       "      <td> 603990</td>\n",
       "      <td> 麦迪科技</td>\n",
       "      <td>-5.521</td>\n",
       "      <td> 49.63</td>\n",
       "      <td> 51.87</td>\n",
       "      <td> 51.98</td>\n",
       "      <td> 49.00</td>\n",
       "      <td> 52.53</td>\n",
       "      <td> 2780076</td>\n",
       "      <td> 13.90038</td>\n",
       "      <td> 139310021</td>\n",
       "      <td>  76.354</td>\n",
       "      <td> 15.131</td>\n",
       "      <td>  397040.00000</td>\n",
       "      <td>  99260.00000</td>\n",
       "    </tr>\n",
       "    <tr>\n",
       "      <th>6 </th>\n",
       "      <td>  6</td>\n",
       "      <td> 603989</td>\n",
       "      <td> 艾华集团</td>\n",
       "      <td>-4.513</td>\n",
       "      <td> 34.70</td>\n",
       "      <td> 36.10</td>\n",
       "      <td> 36.19</td>\n",
       "      <td> 34.00</td>\n",
       "      <td> 36.34</td>\n",
       "      <td> 1760278</td>\n",
       "      <td>  2.08626</td>\n",
       "      <td>  61143340</td>\n",
       "      <td>  39.885</td>\n",
       "      <td>  6.060</td>\n",
       "      <td> 1041000.00000</td>\n",
       "      <td> 292781.25000</td>\n",
       "    </tr>\n",
       "    <tr>\n",
       "      <th>7 </th>\n",
       "      <td>  7</td>\n",
       "      <td> 603988</td>\n",
       "      <td> 中电电机</td>\n",
       "      <td>-3.479</td>\n",
       "      <td> 81.29</td>\n",
       "      <td> 87.00</td>\n",
       "      <td> 87.00</td>\n",
       "      <td> 80.80</td>\n",
       "      <td> 84.22</td>\n",
       "      <td> 2152676</td>\n",
       "      <td>  9.61016</td>\n",
       "      <td> 181091290</td>\n",
       "      <td> 153.377</td>\n",
       "      <td> 10.055</td>\n",
       "      <td>  650320.00000</td>\n",
       "      <td> 182089.60000</td>\n",
       "    </tr>\n",
       "    <tr>\n",
       "      <th>8 </th>\n",
       "      <td>  8</td>\n",
       "      <td> 603987</td>\n",
       "      <td>  康德莱</td>\n",
       "      <td>-5.141</td>\n",
       "      <td> 27.49</td>\n",
       "      <td> 28.99</td>\n",
       "      <td> 29.25</td>\n",
       "      <td> 27.00</td>\n",
       "      <td> 28.98</td>\n",
       "      <td> 4731445</td>\n",
       "      <td>  8.99514</td>\n",
       "      <td> 132546523</td>\n",
       "      <td>  45.817</td>\n",
       "      <td>  6.530</td>\n",
       "      <td>  578087.21000</td>\n",
       "      <td> 144597.40000</td>\n",
       "    </tr>\n",
       "    <tr>\n",
       "      <th>10</th>\n",
       "      <td> 10</td>\n",
       "      <td> 603979</td>\n",
       "      <td>  金诚信</td>\n",
       "      <td>-1.848</td>\n",
       "      <td> 18.06</td>\n",
       "      <td> 18.36</td>\n",
       "      <td> 18.54</td>\n",
       "      <td> 18.05</td>\n",
       "      <td> 18.40</td>\n",
       "      <td> 3077900</td>\n",
       "      <td>  1.64553</td>\n",
       "      <td>  56063041</td>\n",
       "      <td>  28.667</td>\n",
       "      <td>  2.222</td>\n",
       "      <td>  812700.00000</td>\n",
       "      <td> 337805.79840</td>\n",
       "    </tr>\n",
       "    <tr>\n",
       "      <th>11</th>\n",
       "      <td> 11</td>\n",
       "      <td> 603977</td>\n",
       "      <td> 国泰集团</td>\n",
       "      <td>-0.197</td>\n",
       "      <td> 25.29</td>\n",
       "      <td> 25.30</td>\n",
       "      <td> 25.44</td>\n",
       "      <td> 24.52</td>\n",
       "      <td> 25.34</td>\n",
       "      <td> 4390259</td>\n",
       "      <td>  7.94186</td>\n",
       "      <td> 109480741</td>\n",
       "      <td>  42.864</td>\n",
       "      <td>  6.392</td>\n",
       "      <td>  559111.32000</td>\n",
       "      <td> 139803.12000</td>\n",
       "    </tr>\n",
       "    <tr>\n",
       "      <th>12</th>\n",
       "      <td> 12</td>\n",
       "      <td> 603969</td>\n",
       "      <td> 银龙股份</td>\n",
       "      <td>-1.305</td>\n",
       "      <td> 13.61</td>\n",
       "      <td> 13.79</td>\n",
       "      <td> 13.97</td>\n",
       "      <td> 13.61</td>\n",
       "      <td> 13.79</td>\n",
       "      <td> 1367122</td>\n",
       "      <td>  0.89571</td>\n",
       "      <td>  18865951</td>\n",
       "      <td>  41.242</td>\n",
       "      <td>  3.516</td>\n",
       "      <td>  544400.00000</td>\n",
       "      <td> 207730.11050</td>\n",
       "    </tr>\n",
       "  </tbody>\n",
       "</table>\n",
       "</div>"
      ],
      "text/plain": [
       "    Unnamed: 0    code  name  changepercent  trade   open   high    low  \\\n",
       "0            0  603999  读者传媒         -2.465  29.28  30.14  30.14  29.20   \n",
       "1            1  603998  方盛制药         -0.984  18.12  18.27  18.41  18.04   \n",
       "2            2  603997  继峰股份         -5.010  18.20  19.18  19.18  18.05   \n",
       "5            5  603990  麦迪科技         -5.521  49.63  51.87  51.98  49.00   \n",
       "6            6  603989  艾华集团         -4.513  34.70  36.10  36.19  34.00   \n",
       "7            7  603988  中电电机         -3.479  81.29  87.00  87.00  80.80   \n",
       "8            8  603987   康德莱         -5.141  27.49  28.99  29.25  27.00   \n",
       "10          10  603979   金诚信         -1.848  18.06  18.36  18.54  18.05   \n",
       "11          11  603977  国泰集团         -0.197  25.29  25.30  25.44  24.52   \n",
       "12          12  603969  银龙股份         -1.305  13.61  13.79  13.97  13.61   \n",
       "\n",
       "    settlement   volume  turnoverratio     amount      per      pb  \\\n",
       "0        30.02  4020980        3.49043  118674144   52.286   5.200   \n",
       "1        18.30  3766387        1.39922   68558757   28.313   8.584   \n",
       "2        19.16  3834406        3.36351   70947110   41.364   5.251   \n",
       "5        52.53  2780076       13.90038  139310021   76.354  15.131   \n",
       "6        36.34  1760278        2.08626   61143340   39.885   6.060   \n",
       "7        84.22  2152676        9.61016  181091290  153.377  10.055   \n",
       "8        28.98  4731445        8.99514  132546523   45.817   6.530   \n",
       "10       18.40  3077900        1.64553   56063041   28.667   2.222   \n",
       "11       25.34  4390259        7.94186  109480741   42.864   6.392   \n",
       "12       13.79  1367122        0.89571   18865951   41.242   3.516   \n",
       "\n",
       "           mktcap           nmc  \n",
       "0    843264.00000  337305.60000  \n",
       "1    784608.17664  487749.12264  \n",
       "2    764400.00000  207480.00000  \n",
       "5    397040.00000   99260.00000  \n",
       "6   1041000.00000  292781.25000  \n",
       "7    650320.00000  182089.60000  \n",
       "8    578087.21000  144597.40000  \n",
       "10   812700.00000  337805.79840  \n",
       "11   559111.32000  139803.12000  \n",
       "12   544400.00000  207730.11050  "
      ]
     },
     "execution_count": 17,
     "metadata": {},
     "output_type": "execute_result"
    }
   ],
   "source": [
    "#得到所有阴的股票\n",
    "df_green_st.head(10)"
   ]
  },
  {
   "cell_type": "code",
   "execution_count": 3,
   "metadata": {
    "collapsed": false
   },
   "outputs": [
    {
     "data": {
      "text/plain": [
       "code             2065\n",
       "name             2065\n",
       "changepercent    2065\n",
       "trade            2065\n",
       "open             2065\n",
       "high             2065\n",
       "low              2065\n",
       "settlement       2065\n",
       "volume           2065\n",
       "turnoverratio    2065\n",
       "amount           2065\n",
       "per              2065\n",
       "pb               2065\n",
       "mktcap           2065\n",
       "nmc              2065\n",
       "dtype: int64"
      ]
     },
     "execution_count": 3,
     "metadata": {},
     "output_type": "execute_result"
    }
   ],
   "source": [
    "#df_green_st[(df_green_st['code'] != '603979')].count()"
   ]
  },
  {
   "cell_type": "code",
   "execution_count": 18,
   "metadata": {
    "collapsed": false
   },
   "outputs": [
    {
     "ename": "KeyboardInterrupt",
     "evalue": "",
     "output_type": "error",
     "traceback": [
      "\u001b[0;31m---------------------------------------------------------------------------\u001b[0m",
      "\u001b[0;31mKeyboardInterrupt\u001b[0m                         Traceback (most recent call last)",
      "\u001b[0;32m<ipython-input-18-85b6bdca5480>\u001b[0m in \u001b[0;36m<module>\u001b[0;34m()\u001b[0m\n\u001b[1;32m      4\u001b[0m \u001b[0mtotal_loss_list\u001b[0m \u001b[0;34m=\u001b[0m \u001b[0;34m[\u001b[0m\u001b[0;34m]\u001b[0m\u001b[0;34m\u001b[0m\u001b[0m\n\u001b[1;32m      5\u001b[0m \u001b[0;32mfor\u001b[0m \u001b[0mitem\u001b[0m \u001b[0;32min\u001b[0m \u001b[0mdf_green_st\u001b[0m\u001b[0;34m[\u001b[0m\u001b[0;34m'code'\u001b[0m\u001b[0;34m]\u001b[0m\u001b[0;34m:\u001b[0m\u001b[0;34m\u001b[0m\u001b[0m\n\u001b[0;32m----> 6\u001b[0;31m     \u001b[0mtmpdf\u001b[0m \u001b[0;34m=\u001b[0m \u001b[0mts\u001b[0m\u001b[0;34m.\u001b[0m\u001b[0mget_hist_data\u001b[0m\u001b[0;34m(\u001b[0m\u001b[0mstr\u001b[0m\u001b[0;34m(\u001b[0m\u001b[0mitem\u001b[0m\u001b[0;34m)\u001b[0m\u001b[0;34m,\u001b[0m \u001b[0mstart\u001b[0m\u001b[0;34m=\u001b[0m\u001b[0mdu\u001b[0m\u001b[0;34m.\u001b[0m\u001b[0mday_last_week\u001b[0m\u001b[0;34m(\u001b[0m \u001b[0;36m0\u001b[0m \u001b[0;34m-\u001b[0m \u001b[0mdays_count\u001b[0m \u001b[0;34m-\u001b[0m \u001b[0;36m1\u001b[0m\u001b[0;34m)\u001b[0m\u001b[0;34m)\u001b[0m\u001b[0;34m\u001b[0m\u001b[0m\n\u001b[0m\u001b[1;32m      7\u001b[0m     \u001b[0;31m#打印出来看看\u001b[0m\u001b[0;34m\u001b[0m\u001b[0;34m\u001b[0m\u001b[0m\n\u001b[1;32m      8\u001b[0m     \u001b[0mtmpdf\u001b[0m\u001b[0;34m\u001b[0m\u001b[0m\n",
      "\u001b[0;32m/usr/local/lib/python2.7/dist-packages/tushare/stock/trading.pyc\u001b[0m in \u001b[0;36mget_hist_data\u001b[0;34m(code, start, end, ktype, retry_count, pause)\u001b[0m\n\u001b[1;32m     90\u001b[0m             \u001b[0;32mif\u001b[0m \u001b[0;34m(\u001b[0m\u001b[0mcode\u001b[0m \u001b[0;32min\u001b[0m \u001b[0mct\u001b[0m\u001b[0;34m.\u001b[0m\u001b[0mINDEX_LABELS\u001b[0m\u001b[0;34m)\u001b[0m \u001b[0;34m&\u001b[0m \u001b[0;34m(\u001b[0m\u001b[0mktype\u001b[0m \u001b[0;32min\u001b[0m \u001b[0mct\u001b[0m\u001b[0;34m.\u001b[0m\u001b[0mK_MIN_LABELS\u001b[0m\u001b[0;34m)\u001b[0m\u001b[0;34m:\u001b[0m\u001b[0;34m\u001b[0m\u001b[0m\n\u001b[1;32m     91\u001b[0m                 \u001b[0mdf\u001b[0m \u001b[0;34m=\u001b[0m \u001b[0mdf\u001b[0m\u001b[0;34m.\u001b[0m\u001b[0mdrop\u001b[0m\u001b[0;34m(\u001b[0m\u001b[0;34m'turnover'\u001b[0m\u001b[0;34m,\u001b[0m \u001b[0maxis\u001b[0m\u001b[0;34m=\u001b[0m\u001b[0;36m1\u001b[0m\u001b[0;34m)\u001b[0m\u001b[0;34m\u001b[0m\u001b[0m\n\u001b[0;32m---> 92\u001b[0;31m             \u001b[0mdf\u001b[0m \u001b[0;34m=\u001b[0m \u001b[0mdf\u001b[0m\u001b[0;34m.\u001b[0m\u001b[0mset_index\u001b[0m\u001b[0;34m(\u001b[0m\u001b[0;34m'date'\u001b[0m\u001b[0;34m)\u001b[0m\u001b[0;34m\u001b[0m\u001b[0m\n\u001b[0m\u001b[1;32m     93\u001b[0m             \u001b[0mdf\u001b[0m \u001b[0;34m=\u001b[0m \u001b[0mdf\u001b[0m\u001b[0;34m.\u001b[0m\u001b[0msort_index\u001b[0m\u001b[0;34m(\u001b[0m\u001b[0mascending\u001b[0m \u001b[0;34m=\u001b[0m \u001b[0mFalse\u001b[0m\u001b[0;34m)\u001b[0m\u001b[0;34m\u001b[0m\u001b[0m\n\u001b[1;32m     94\u001b[0m             \u001b[0;32mreturn\u001b[0m \u001b[0mdf\u001b[0m\u001b[0;34m\u001b[0m\u001b[0m\n",
      "\u001b[0;32m/usr/lib/python2.7/dist-packages/pandas/core/frame.pyc\u001b[0m in \u001b[0;36mset_index\u001b[0;34m(self, keys, drop, append, inplace, verify_integrity)\u001b[0m\n\u001b[1;32m   2383\u001b[0m \u001b[0;34m\u001b[0m\u001b[0m\n\u001b[1;32m   2384\u001b[0m         \u001b[0;32mfor\u001b[0m \u001b[0mc\u001b[0m \u001b[0;32min\u001b[0m \u001b[0mto_remove\u001b[0m\u001b[0;34m:\u001b[0m\u001b[0;34m\u001b[0m\u001b[0m\n\u001b[0;32m-> 2385\u001b[0;31m             \u001b[0;32mdel\u001b[0m \u001b[0mframe\u001b[0m\u001b[0;34m[\u001b[0m\u001b[0mc\u001b[0m\u001b[0;34m]\u001b[0m\u001b[0;34m\u001b[0m\u001b[0m\n\u001b[0m\u001b[1;32m   2386\u001b[0m \u001b[0;34m\u001b[0m\u001b[0m\n\u001b[1;32m   2387\u001b[0m         \u001b[0;31m# clear up memory usage\u001b[0m\u001b[0;34m\u001b[0m\u001b[0;34m\u001b[0m\u001b[0m\n",
      "\u001b[0;32m/usr/lib/python2.7/dist-packages/pandas/core/generic.pyc\u001b[0m in \u001b[0;36m__delitem__\u001b[0;34m(self, key)\u001b[0m\n\u001b[1;32m   1208\u001b[0m             \u001b[0;31m# there was no match, this call should raise the appropriate\u001b[0m\u001b[0;34m\u001b[0m\u001b[0;34m\u001b[0m\u001b[0m\n\u001b[1;32m   1209\u001b[0m             \u001b[0;31m# exception:\u001b[0m\u001b[0;34m\u001b[0m\u001b[0;34m\u001b[0m\u001b[0m\n\u001b[0;32m-> 1210\u001b[0;31m             \u001b[0mself\u001b[0m\u001b[0;34m.\u001b[0m\u001b[0m_data\u001b[0m\u001b[0;34m.\u001b[0m\u001b[0mdelete\u001b[0m\u001b[0;34m(\u001b[0m\u001b[0mkey\u001b[0m\u001b[0;34m)\u001b[0m\u001b[0;34m\u001b[0m\u001b[0m\n\u001b[0m\u001b[1;32m   1211\u001b[0m \u001b[0;34m\u001b[0m\u001b[0m\n\u001b[1;32m   1212\u001b[0m         \u001b[0;32mtry\u001b[0m\u001b[0;34m:\u001b[0m\u001b[0;34m\u001b[0m\u001b[0m\n",
      "\u001b[0;32m/usr/lib/python2.7/dist-packages/pandas/core/internals.pyc\u001b[0m in \u001b[0;36mdelete\u001b[0;34m(self, item)\u001b[0m\n\u001b[1;32m   2620\u001b[0m         \u001b[0mDelete\u001b[0m \u001b[0mselected\u001b[0m \u001b[0mitem\u001b[0m \u001b[0;34m(\u001b[0m\u001b[0mitems\u001b[0m \u001b[0;32mif\u001b[0m \u001b[0mnon\u001b[0m\u001b[0;34m-\u001b[0m\u001b[0munique\u001b[0m\u001b[0;34m)\u001b[0m \u001b[0;32min\u001b[0m\u001b[0;34m-\u001b[0m\u001b[0mplace\u001b[0m\u001b[0;34m.\u001b[0m\u001b[0;34m\u001b[0m\u001b[0m\n\u001b[1;32m   2621\u001b[0m         \"\"\"\n\u001b[0;32m-> 2622\u001b[0;31m         \u001b[0mindexer\u001b[0m \u001b[0;34m=\u001b[0m \u001b[0mself\u001b[0m\u001b[0;34m.\u001b[0m\u001b[0mitems\u001b[0m\u001b[0;34m.\u001b[0m\u001b[0mget_loc\u001b[0m\u001b[0;34m(\u001b[0m\u001b[0mitem\u001b[0m\u001b[0;34m)\u001b[0m\u001b[0;34m\u001b[0m\u001b[0m\n\u001b[0m\u001b[1;32m   2623\u001b[0m \u001b[0;34m\u001b[0m\u001b[0m\n\u001b[1;32m   2624\u001b[0m         \u001b[0mis_deleted\u001b[0m \u001b[0;34m=\u001b[0m \u001b[0mnp\u001b[0m\u001b[0;34m.\u001b[0m\u001b[0mzeros\u001b[0m\u001b[0;34m(\u001b[0m\u001b[0mself\u001b[0m\u001b[0;34m.\u001b[0m\u001b[0mshape\u001b[0m\u001b[0;34m[\u001b[0m\u001b[0;36m0\u001b[0m\u001b[0;34m]\u001b[0m\u001b[0;34m,\u001b[0m \u001b[0mdtype\u001b[0m\u001b[0;34m=\u001b[0m\u001b[0mnp\u001b[0m\u001b[0;34m.\u001b[0m\u001b[0mbool_\u001b[0m\u001b[0;34m)\u001b[0m\u001b[0;34m\u001b[0m\u001b[0m\n",
      "\u001b[0;32m/usr/lib/python2.7/dist-packages/pandas/core/internals.pyc\u001b[0m in \u001b[0;36m_get_items\u001b[0;34m(self)\u001b[0m\n\u001b[1;32m   2024\u001b[0m     \u001b[0;31m# make items read only for now\u001b[0m\u001b[0;34m\u001b[0m\u001b[0;34m\u001b[0m\u001b[0m\n\u001b[1;32m   2025\u001b[0m     \u001b[0;32mdef\u001b[0m \u001b[0m_get_items\u001b[0m\u001b[0;34m(\u001b[0m\u001b[0mself\u001b[0m\u001b[0;34m)\u001b[0m\u001b[0;34m:\u001b[0m\u001b[0;34m\u001b[0m\u001b[0m\n\u001b[0;32m-> 2026\u001b[0;31m         \u001b[0;32mreturn\u001b[0m \u001b[0mself\u001b[0m\u001b[0;34m.\u001b[0m\u001b[0maxes\u001b[0m\u001b[0;34m[\u001b[0m\u001b[0;36m0\u001b[0m\u001b[0;34m]\u001b[0m\u001b[0;34m\u001b[0m\u001b[0m\n\u001b[0m\u001b[1;32m   2027\u001b[0m     \u001b[0mitems\u001b[0m \u001b[0;34m=\u001b[0m \u001b[0mproperty\u001b[0m\u001b[0;34m(\u001b[0m\u001b[0mfget\u001b[0m\u001b[0;34m=\u001b[0m\u001b[0m_get_items\u001b[0m\u001b[0;34m)\u001b[0m\u001b[0;34m\u001b[0m\u001b[0m\n\u001b[1;32m   2028\u001b[0m \u001b[0;34m\u001b[0m\u001b[0m\n",
      "\u001b[0;31mKeyboardInterrupt\u001b[0m: "
     ]
    }
   ],
   "source": [
    "days_count = 7\n",
    "target_list = []\n",
    "#总跌幅\n",
    "total_loss_list = []\n",
    "for item in df_green_st['code']:\n",
    "    tmpdf = ts.get_hist_data(str(item), start=du.day_last_week( 0 - days_count - 1))\n",
    "    #打印出来看看\n",
    "    print tmpdf\n",
    "    #如果连续 days_count 天都阴\n",
    "    try:\n",
    "        if (tmpdf[(tmpdf.p_change < 0)])['p_change'].count() == days_count:\n",
    "            target_list.append(item)\n",
    "            #total_loss_list.append((item, tmpdf['p_change'].sum()))\n",
    "            print 'item added:'+ str(item) + ', count:' +  str ((tmpdf[(tmpdf.p_change < 0)])['p_change'].count() )\n",
    "        #else:\n",
    "        #    print '.'\n",
    "    except Exception:\n",
    "        #ignore the error here\n",
    "        pass\n",
    "print 'Done'        "
   ]
  },
  {
   "cell_type": "code",
   "execution_count": 10,
   "metadata": {
    "collapsed": false
   },
   "outputs": [],
   "source": [
    "#len(target_list)\n",
    "\n",
    "#找出连跌的股，包括新股\n",
    "df_target_tmp = df_green_st[(df_green_st.code.isin(target_list))]"
   ]
  },
  {
   "cell_type": "code",
   "execution_count": 11,
   "metadata": {
    "collapsed": false,
    "scrolled": true
   },
   "outputs": [
    {
     "name": "stdout",
     "output_type": "stream",
     "text": [
      "[Getting data:]###########"
     ]
    },
    {
     "data": {
      "text/html": [
       "<div style=\"max-height:1000px;max-width:1500px;overflow:auto;\">\n",
       "<table border=\"1\" class=\"dataframe\">\n",
       "  <thead>\n",
       "    <tr style=\"text-align: right;\">\n",
       "      <th></th>\n",
       "      <th>Unnamed: 0</th>\n",
       "      <th>code</th>\n",
       "      <th>name</th>\n",
       "      <th>changepercent</th>\n",
       "      <th>trade</th>\n",
       "      <th>open</th>\n",
       "      <th>high</th>\n",
       "      <th>low</th>\n",
       "      <th>settlement</th>\n",
       "      <th>volume</th>\n",
       "      <th>turnoverratio</th>\n",
       "      <th>amount</th>\n",
       "      <th>per</th>\n",
       "      <th>pb</th>\n",
       "      <th>mktcap</th>\n",
       "      <th>nmc</th>\n",
       "    </tr>\n",
       "  </thead>\n",
       "  <tbody>\n",
       "  </tbody>\n",
       "</table>\n",
       "</div>"
      ],
      "text/plain": [
       "Empty DataFrame\n",
       "Columns: [Unnamed: 0, code, name, changepercent, trade, open, high, low, settlement, volume, turnoverratio, amount, per, pb, mktcap, nmc]\n",
       "Index: []"
      ]
     },
     "execution_count": 11,
     "metadata": {},
     "output_type": "execute_result"
    }
   ],
   "source": [
    "newst = ts.new_stocks()\n",
    "#看看个数\n",
    "#newst['code'].count()\n",
    "\n",
    "#上市日期150天以内的算新股（1年前或者几个月前的就不算新股了)\n",
    "df_newst = newst[(newst.issue_date > du.day_last_week(-150)) | (newst.issue_date.isnull()) ]\n",
    "\n",
    "#去掉新股，等到涨停的股\n",
    "df_target = df_target_tmp[ ~(df_target_tmp.code.isin(df_newst.code))]\n",
    "\n",
    "\n",
    "#重置下index的值，\n",
    "df_target.index=range(df_target.code.count())\n",
    "\n",
    "df_target"
   ]
  },
  {
   "cell_type": "code",
   "execution_count": 58,
   "metadata": {
    "collapsed": false,
    "scrolled": false
   },
   "outputs": [
    {
     "data": {
      "text/html": [
       "<div style=\"max-height:1000px;max-width:1500px;overflow:auto;\">\n",
       "<table border=\"1\" class=\"dataframe\">\n",
       "  <thead>\n",
       "    <tr style=\"text-align: right;\">\n",
       "      <th></th>\n",
       "      <th>code</th>\n",
       "      <th>name</th>\n",
       "    </tr>\n",
       "  </thead>\n",
       "  <tbody>\n",
       "    <tr>\n",
       "      <th>0</th>\n",
       "      <td> 603518</td>\n",
       "      <td> 维格娜丝</td>\n",
       "    </tr>\n",
       "    <tr>\n",
       "      <th>1</th>\n",
       "      <td> 600572</td>\n",
       "      <td>  康恩贝</td>\n",
       "    </tr>\n",
       "    <tr>\n",
       "      <th>2</th>\n",
       "      <td> 600305</td>\n",
       "      <td> 恒顺醋业</td>\n",
       "    </tr>\n",
       "    <tr>\n",
       "      <th>3</th>\n",
       "      <td> 300202</td>\n",
       "      <td> 聚龙股份</td>\n",
       "    </tr>\n",
       "    <tr>\n",
       "      <th>4</th>\n",
       "      <td> 300200</td>\n",
       "      <td> 高盟新材</td>\n",
       "    </tr>\n",
       "    <tr>\n",
       "      <th>5</th>\n",
       "      <td> 300131</td>\n",
       "      <td> 英唐智控</td>\n",
       "    </tr>\n",
       "  </tbody>\n",
       "</table>\n",
       "</div>"
      ],
      "text/plain": [
       "     code  name\n",
       "0  603518  维格娜丝\n",
       "1  600572   康恩贝\n",
       "2  600305  恒顺醋业\n",
       "3  300202  聚龙股份\n",
       "4  300200  高盟新材\n",
       "5  300131  英唐智控"
      ]
     },
     "execution_count": 58,
     "metadata": {},
     "output_type": "execute_result"
    }
   ],
   "source": [
    "df_target.ix[:,['code','name']]"
   ]
  },
  {
   "cell_type": "code",
   "execution_count": 34,
   "metadata": {
    "collapsed": false
   },
   "outputs": [
    {
     "data": {
      "text/plain": [
       "-9.8209999999999997"
      ]
     },
     "execution_count": 34,
     "metadata": {},
     "output_type": "execute_result"
    }
   ],
   "source": []
  },
  {
   "cell_type": "code",
   "execution_count": 60,
   "metadata": {
    "collapsed": false
   },
   "outputs": [
    {
     "data": {
      "text/plain": [
       "[(u'603987', -13.529999999999999),\n",
       " (u'603928', -17.530000000000001),\n",
       " (u'603900', -14.380000000000003),\n",
       " (u'603878', -26.73),\n",
       " (u'603658', -11.460000000000001),\n",
       " (u'603518', -10.329999999999998),\n",
       " (u'603323', -7.5),\n",
       " (u'603060', -16.91),\n",
       " (u'600572', -4.0000000000000009),\n",
       " (u'600305', -3.5599999999999996),\n",
       " (u'300575', -17.990000000000002),\n",
       " (u'300565', -22.34),\n",
       " (u'300202', -8.2400000000000002),\n",
       " (u'300200', -9.0800000000000018),\n",
       " (u'300131', -5.9500000000000002)]"
      ]
     },
     "execution_count": 60,
     "metadata": {},
     "output_type": "execute_result"
    }
   ],
   "source": [
    "#df_target['changepercent'].sum()\n",
    "\n",
    "#例子如何解包\n",
    "a = ((1,2), (3, 4), (5, 6), (7, 8), (9, 10))\n",
    "x,y = [[z[i] for z in a] for i in (0,1)]\n",
    "\n",
    "\n",
    "from pandas import Series\n",
    "\n",
    "mycodes,total_loss = [[z[i] for z in total_loss_list] for i in (0,1)]\n",
    "df_final = df_target.ix[:,['code','name']]\n",
    "#df_final['totalloss'] = Series(total_loss, index=df_final.index)\n",
    "\n",
    "#df_final\n",
    "total_loss_list"
   ]
  },
  {
   "cell_type": "code",
   "execution_count": 45,
   "metadata": {
    "collapsed": false
   },
   "outputs": [],
   "source": [
    "#df_test = df_green_st[(df_green_st['code'] == '603979')]"
   ]
  },
  {
   "cell_type": "code",
   "execution_count": 54,
   "metadata": {
    "collapsed": false
   },
   "outputs": [
    {
     "name": "stderr",
     "output_type": "stream",
     "text": [
      "/usr/local/lib/python2.7/dist-packages/ipykernel/__main__.py:3: SettingWithCopyWarning: A value is trying to be set on a copy of a slice from a DataFrame.\n",
      "Try using .loc[row_index,col_indexer] = value instead\n",
      "  app.launch_new_instance()\n"
     ]
    },
    {
     "data": {
      "text/html": [
       "<div style=\"max-height:1000px;max-width:1500px;overflow:auto;\">\n",
       "<table border=\"1\" class=\"dataframe\">\n",
       "  <thead>\n",
       "    <tr style=\"text-align: right;\">\n",
       "      <th></th>\n",
       "      <th>code</th>\n",
       "      <th>name</th>\n",
       "      <th>changepercent</th>\n",
       "      <th>trade</th>\n",
       "      <th>open</th>\n",
       "      <th>high</th>\n",
       "      <th>low</th>\n",
       "      <th>settlement</th>\n",
       "      <th>volume</th>\n",
       "      <th>turnoverratio</th>\n",
       "      <th>amount</th>\n",
       "      <th>per</th>\n",
       "      <th>pb</th>\n",
       "      <th>mktcap</th>\n",
       "      <th>nmc</th>\n",
       "      <th>xxxx</th>\n",
       "    </tr>\n",
       "  </thead>\n",
       "  <tbody>\n",
       "    <tr>\n",
       "      <th>10</th>\n",
       "      <td> 603979</td>\n",
       "      <td> 金诚信</td>\n",
       "      <td>-1.393</td>\n",
       "      <td> 18.4</td>\n",
       "      <td> 18.7</td>\n",
       "      <td> 18.76</td>\n",
       "      <td> 18.38</td>\n",
       "      <td> 18.66</td>\n",
       "      <td> 2429627</td>\n",
       "      <td> 1.29894</td>\n",
       "      <td> 45111886</td>\n",
       "      <td> 29.206</td>\n",
       "      <td> 2.264</td>\n",
       "      <td> 828000</td>\n",
       "      <td> 344165.376</td>\n",
       "      <td> test</td>\n",
       "    </tr>\n",
       "  </tbody>\n",
       "</table>\n",
       "</div>"
      ],
      "text/plain": [
       "      code name  changepercent  trade  open   high    low  settlement  \\\n",
       "10  603979  金诚信         -1.393   18.4  18.7  18.76  18.38       18.66   \n",
       "\n",
       "     volume  turnoverratio    amount     per     pb  mktcap         nmc  xxxx  \n",
       "10  2429627        1.29894  45111886  29.206  2.264  828000  344165.376  test  "
      ]
     },
     "execution_count": 54,
     "metadata": {},
     "output_type": "execute_result"
    }
   ],
   "source": [
    "\n",
    "#abc = ['test']\n",
    "#df_test.loc['xxxx'] = Series(abc, index=df_test.index)\n",
    "#df_test"
   ]
  },
  {
   "cell_type": "code",
   "execution_count": null,
   "metadata": {
    "collapsed": true
   },
   "outputs": [],
   "source": []
  }
 ],
 "metadata": {
  "kernelspec": {
   "display_name": "Python 2",
   "language": "python",
   "name": "python2"
  },
  "language_info": {
   "codemirror_mode": {
    "name": "ipython",
    "version": 2
   },
   "file_extension": ".py",
   "mimetype": "text/x-python",
   "name": "python",
   "nbconvert_exporter": "python",
   "pygments_lexer": "ipython2",
   "version": "2.7.9"
  }
 },
 "nbformat": 4,
 "nbformat_minor": 2
}
