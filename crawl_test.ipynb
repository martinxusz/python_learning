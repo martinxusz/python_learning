{
 "cells": [
  {
   "cell_type": "code",
   "execution_count": 3,
   "metadata": {
    "collapsed": false
   },
   "outputs": [
    {
     "name": "stdout",
     "output_type": "stream",
     "text": [
      "周刊： 月刊： 非杂志：\n"
     ]
    }
   ],
   "source": [
    "# -*- coding: utf-8 -*-\n",
    "#!/usr/bin/python\n",
    "import requests\n",
    "from pyquery import PyQuery as pq\n",
    "\n",
    "response = requests.get('https://www.shanbay.com/team/thread/188584/1920688/')\n",
    "page = pq(response.content)\n",
    "innerpage = page('div#post-10859098')\n",
    "innerpage =innerpage('div.post-content-todo.well')\n",
    "targetcontainer=innerpage('div.post-content-todo')\n",
    "print targetcontainer('h1 strong').text()\n"
   ]
  },
  {
   "cell_type": "code",
   "execution_count": 44,
   "metadata": {
    "collapsed": false
   },
   "outputs": [
    {
     "name": "stdout",
     "output_type": "stream",
     "text": [
      "周刊：\n",
      "The Economist （经济学人，每周一期，PDF/EPUB/MOBI/MP3格式，更新到2月18日）， 传送门 。\n",
      "    Main Entry:    https://www.shanbay.com/team/thread/188584/1862611/\n",
      "        The Economist_FEBRUARY 18TH–24TH 2017 , 链接：http://pan.baidu.com/s/1i5fZPHV 密码：t80y\n",
      "        The Economist_FEBRUARY 11TH–17TH 2017 ，链接：http://pan.baidu.com/s/1c2xeFuC 密码：p1l7\n",
      "        The Economist_FEBRUARY 4TH–10TH 2017 ，链接：http://pan.baidu.com/s/1pL0LBjP 密码：pqw9\n",
      "        THE ECONOMIST - JANUARY 28TH – February 3RD 2017 ，链接：http://pan.baidu.com/s/1o8nWkhO 密码：v0an\n",
      "        THE ECONOMIST -  JANUARY 21TH – 27TH 2017 ，链接：http://pan.baidu.com/s/1qX7UBMk 密码：0jiu\n",
      "        THE ECONOMIST - JANUARY 14TH – 20TH 2017 ，链接：http://pan.baidu.com/s/1jIeAlam 密码：7uil\n",
      "        THE ECONOMIST - JANUARY 7TH – 13TH 2017 ，链接：http://pan.baidu.com/s/1miJhp48 密码：9dhk\n",
      "Newsweek （新闻周刊，每周一期，PDF格式，更新到2月24日）， 传送门 。\n",
      "    Main Entry:    https://www.shanbay.com/team/thread/188584/1854667/\n",
      "        Newsweek 2017年2月24日 ，链接：http://pan.baidu.com/s/1c2oXKXU 密码：lyt7\n",
      "        Newsweek 2017年2月17日 ，链接：http://pan.baidu.com/s/1o76D8P8 密码：l5p0\n",
      "        Newsweek 2017年2月10日 ，链接：http://pan.baidu.com/s/1kV4XC03 密码：8laj\n",
      "        Newsweek 2017年1月27日 ，链接：http://pan.baidu.com/s/1cpa8OY 密码：c2yn\n",
      "        NewsWeek 2017年1月20日 ，链接：http://pan.baidu.com/s/1cvfDXO 密码：v1db\n",
      "        NewsWeek 2017年1月6日 ，链接：http://pan.baidu.com/s/1mi0Qd9Q 密码：ctsf\n",
      "The New Yorker （纽约客，每周一期，PDF格式，更新到2月13日）， 传送门 。\n",
      "    Main Entry:    https://www.shanbay.com/team/thread/188584/1845487/\n",
      "        The New Yorker 2017年2月13日 ，链接：http://pan.baidu.com/s/1jI4ZGay 密码：nyeu\n",
      "        The New Yorker 2017年1月23日 ，链接：http://pan.baidu.com/s/1dFFYRqL 密码：dzc0\n",
      "        The New Yorker 2017年1月16日 , 链接：http://pan.baidu.com/s/1o7MkWie 密码：7r70\n",
      "        The New Yorker 2017年1月9日 , 链接：http://pan.baidu.com/s/1c2tFcre 密码：v0m7\n",
      "        The New Yorker 2017年1月2日 ， 链接：http://pan.baidu.com/s/1dFus3a5 密码：m01k\n",
      "Time （时代周刊，每周一期，PDF格式，更新到2月27日）， 传送门 。\n",
      "    Main Entry:    https://www.shanbay.com/team/thread/188584/1864033/\n",
      "        Time USA 2017年2月27日 ，链接：http://pan.baidu.com/s/1bp9sBAR 密码：mgn9\n",
      "        Time USA 2017年2月20日 ，链接：http://pan.baidu.com/s/1eRLgZLo 密码：j5u9\n",
      "        Time USA 2017年2月13日 ，链接：http://pan.baidu.com/s/1qXGI5Wg 密码：80zs\n",
      "        Time USA 2017年2月6日 ，链接：http://pan.baidu.com/s/1nuTFAcD 密码：lcx6\n",
      "        Time USA 2017年1月30日 ，链接：http://pan.baidu.com/s/1jIoeycI 密码：nin4\n",
      "        Time USA 2017年1月23日 ，链接：http://pan.baidu.com/s/1slfHXvB 密码：lrgd\n",
      "        Time USA 2017年1月16日 ,链接：http://pan.baidu.com/s/1cw1fn4 密码：zhxt\n",
      "------------------------\n",
      "月刊：\n",
      "Learn Hot English （每月一期，PDF和MP3格式，更新到201702期）， 传送门 。\n",
      "    Main Entry:    https://www.shanbay.com/team/thread/188584/1912996/\n",
      "        2017年2月份 ，链接：http://pan.baidu.com/s/1gf7h1qb 密码：omr4\n",
      "        2017年1月份，暂缺。\n",
      "English Today （每月一期，PDF格式，更新到201702期）， 传送门 。\n",
      "    Main Entry:    https://www.shanbay.com/team/thread/188584/1888507/\n",
      "        English Today 2017年2月 ，链接：http://pan.baidu.com/s/1eRFGbJk 密码：pb2n\n",
      "        English Today 2017年1月，暂缺。\n",
      "Reader's Digest （每月一期，PDF格式，更新到201702期）， 传送门 。\n",
      "    Main Entry:    https://www.shanbay.com/team/thread/188584/1845499/\n",
      "        Readers Digest 2017年2月 ，链接：http://pan.baidu.com/s/1boK7taZ 密码：fsd9\n",
      "        Reader's Digest 2017年1月 ，链接：http://pan.baidu.com/s/1c2gNynA 密码：7q5o\n",
      "The Scientist （每月一期，PDF格式，更新到201701期）， 传送门 。\n",
      "    Main Entry:    https://www.shanbay.com/team/thread/188584/1854679/\n",
      "        The Scientist 2017年1月 ，链接：http://pan.baidu.com/s/1eSFp1dw 密码：aa4g\n",
      "Harvard Business Review （每月一期，PDF格式，更新到201701期）， 传送门 。\n",
      "    Main Entry:    https://www.shanbay.com/team/thread/188584/1859332/\n",
      "        Harvard Business Review 2017年1月 ,链接：http://pan.baidu.com/s/1eRYCnZ0 密码：znye\n",
      "National Geographic （每月一期，PDF格式，更新到201703期）， 传送门 。\n",
      "    Main Entry:    https://www.shanbay.com/team/thread/188584/1868518/\n",
      "        National Geographic 2017年3月 ，链接：http://pan.baidu.com/s/1boAx5En 密码：t6fu\n",
      "        National Geographic 2017年2月 ，链接：http://pan.baidu.com/s/1slTigk1 密码：mqlj\n",
      "        National Geographic 2017年1月 , 链接：http://pan.baidu.com/s/1hsyXTmG 密码：dn89\n",
      "Discover （每月一期，PDF格式，更新到201701期）， 传送门 。\n",
      "    Main Entry:    https://www.shanbay.com/team/thread/188584/1867132/\n",
      "        Discover 2017年1月 ,链接：http://pan.baidu.com/s/1i48ibiP 密码：cqmg\n",
      "------------------------\n",
      "非杂志：\n",
      "原版小说-初级， (更新到第6本 - 20170105)， 传送门 。\n",
      "    Main Entry:    https://www.shanbay.com/team/thread/188584/1830592/\n",
      "        Green Eggs and Ham, Dr. Seuss (1年级,PDF) 链接： http://pan.baidu.com/s/1hsbpcZ6 密码：0rtg\n",
      "        The Cat in the Hat, Dr. Seuss (2年级,PDF) 链接： http://pan.baidu.com/s/1qYHCp9y 密码：6gts\n",
      "        If You Give a Mouse a Cookie, Laura Numeroff (2年级, PDF) 链接： http://pan.baidu.com/s/1c14TCAG 密码：n98y\n",
      "        The Foot Book, Dr. Seuss (1年级, PDF) 链接： http://pan.baidu.com/s/1eRXpTcQ 密码：fcuq\n",
      "        The Very Hungry Caterpillar, Eric Carle (2年级, PDF) 链接： http://pan.baidu.com/s/1geCVwkF 密码：k3ym\n",
      "        Hop on Pop, Dr. Seuss (1年级, PDF) 链接： http://pan.baidu.com/s/1jINoSdg 密码：aex6\n",
      "原版小说-中级， (更新到第7本 - 20160110)， 传送门 。\n",
      "    Main Entry:    https://www.shanbay.com/team/thread/188584/1830601/\n",
      "        No.7_Diary of a Wimpy Kid The Last Straw, Jeff Kinney (5年级, MOBI) 链接： http://pan.baidu.com/s/1eRLLnii 密码：mfbf\n",
      "        No.1_Diary of a Wimpy Kid Cabin Fever, Jeff Kinney (5年级,PDF) 链接： http://pan.baidu.com/s/1c7VuMy 密码：v6o0\n",
      "        No.2_The Hunger Games, Suzanne Collins (5年级,PDF) 链接： http://pan.baidu.com/s/1pLlQl0v 密码：8m23\n",
      "        No.3_Diary of a Wimpy Kid The Ugly Truth, Jeff Kinney (5年级, MOBI) 链接： http://pan.baidu.com/s/1qYKuvSS 密码：y98p\n",
      "        No.4_Diary of a Wimpy Kid Dog Days, Jeff Kinney (5年级, MOBI) 链接： http://pan.baidu.com/s/1miJMHtu 密码：pp0u\n",
      "        No.5_Diary of a Wimpy Kid Rodrick Rules, Jeff Kinney (5年级, MOBI) 链接： http://pan.baidu.com/s/1pLS4sUv 密码：s9k0\n",
      "        No.6_Diary of a Wimpy Kid, Jeff Kinney (5年级, MOBI) 链接： http://pan.baidu.com/s/1jIBJ8m6 密码：1u3p\n",
      "原版小说-中高级， (更新到第6本 - 20170115)， 传送门 。\n",
      "    Main Entry:    https://www.shanbay.com/team/thread/188584/1830607/\n",
      "        No.6_The Wide Window, Lemony Snicket (6年级,MOBI)，链接： http://pan.baidu.com/s/1nv7Ao0T 密码：dz45\n",
      "        No.5_Harry Potter and the Goblet of Fire, J.K. Rowling (6年级,MOBI)，链接： http://pan.baidu.com/s/1cIgeaa 密码：nz84\n",
      "        No.4_The Reptile Room, Lemony Snicket (6年级, MOBI)，链接： http://pan.baidu.com/s/1kVfocLp 密码：inwl\n",
      "        The Bad Beginning, Lemony Snicket (6年级,epub) 链接： http://pan.baidu.com/s/1dFEAL4P 密码：dyu0\n",
      "        Harry Potter and the Chamber of Secrets, J.K. Rowling (6年级, MOBI) 链接： http://pan.baidu.com/s/1skOfCgH 密码：ky7w\n",
      "        Harry Potter and the Prisoner of Azkaban, J.K. Rowling (6年级, MOBI) 链接： http://pan.baidu.com/s/1o8IwCJo 密码：tn9s\n",
      "原版小说-高级， (更新到第6本 - 20170115)， 传送门 。\n",
      "    Main Entry:    https://www.shanbay.com/team/thread/188584/1832191/\n",
      "        No.6_The Scarlet Letter (Unabridged), Nathaniel Hawthorne (11年级,PDF)，链接： http://pan.baidu.com/s/1hr52vTM 密码：yd0s\n",
      "        No.5_Macbeth, William Shakespeare (10年级,MOBI)，链接： http://pan.baidu.com/s/1o8lT6D8 密码：c5ah\n",
      "        No.4_The Black Cat, Edgar Allan Poe (9年级,EPUB)，链接： http://pan.baidu.com/s/1dEWCP2p 密码：0mlt\n",
      "        No.3_The Legend of Sleepy Hollow, Washington Irving (11年级,PDF)，链接： http://pan.baidu.com/s/1pL98ebp 密码：srx7\n",
      "        Frankenstein (Unabridged), Mary Shelley (12年级,MOBI) 链接： http://pan.baidu.com/s/1o8yd4nS 密码：e43p\n",
      "        Julius Caesar, William Shakespeare (10年级,MOBI) 链接： http://pan.baidu.com/s/1slLEnpz 密码：mbbb\n",
      "扇贝书库中的部分书籍打包下载（上传在小组QQ群文件中）。\n",
      "\n"
     ]
    }
   ],
   "source": [
    "for itemnode in  targetcontainer.children():\n",
    "    #print itemnode\n",
    "        \n",
    "    if not page(itemnode).is_('hr') :\n",
    "        print page(itemnode).text()\n",
    "        #把链接打出来\n",
    "        if page(itemnode).is_('a') :\n",
    "            #打出类型\n",
    "            #print type(page(itemnode).find('a').attr('href'))\n",
    "            print '    Main Entry:    ' + page(itemnode).find('a').attr('href')\n",
    "            \n",
    "            #分析里面的链接\n",
    "            response = requests.get(page(itemnode).find('a').attr('href'))\n",
    "            itn_pq = pq(response.content)\n",
    "            #这个 'djangoForumThreadPosts' 貌似每个帖子的总入口\n",
    "            itemlist = itn_pq('#djangoForumThreadPosts').find('div.post-content-todo.well').find('li')\n",
    "            for each in itemlist:                print '        ' + page(each).text()\n",
    "    else:\n",
    "        print '------------------------'\n"
   ]
  }
 ],
 "metadata": {
  "kernelspec": {
   "display_name": "Python 2",
   "language": "python",
   "name": "python2"
  },
  "language_info": {
   "codemirror_mode": {
    "name": "ipython",
    "version": 2
   },
   "file_extension": ".py",
   "mimetype": "text/x-python",
   "name": "python",
   "nbconvert_exporter": "python",
   "pygments_lexer": "ipython2",
   "version": "2.7.9"
  }
 },
 "nbformat": 4,
 "nbformat_minor": 2
}
